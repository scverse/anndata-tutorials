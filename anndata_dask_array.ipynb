{
 "cells": [
  {
   "cell_type": "markdown",
   "id": "1446b800-7ded-4a4c-b54c-8510100c3bda",
   "metadata": {},
   "source": [
    "# Dask Array Support to AnnData"
   ]
  },
  {
   "cell_type": "markdown",
   "id": "aa4bd620",
   "metadata": {},
   "source": [
    "**Author:** Selman Özleyen"
   ]
  },
  {
   "cell_type": "markdown",
   "id": "cb9b747f-4384-4b16-8f4f-806edfdc0b06",
   "metadata": {},
   "source": [
    "## Initializing\n",
    "\n",
    "First let's do our imports and initialize adata objects with the help of the `adata_with_dask` function defined below."
   ]
  },
  {
   "cell_type": "code",
   "execution_count": 1,
   "id": "f65fb557",
   "metadata": {},
   "outputs": [],
   "source": [
    "import dask\n",
    "import dask.array as da\n",
    "import numpy as np\n",
    "import pandas as pd\n",
    "import anndata as ad\n",
    "\n",
    "dask.config.set({\"visualization.engine\": \"graphviz\"});"
   ]
  },
  {
   "cell_type": "code",
   "execution_count": 2,
   "id": "6f35076e",
   "metadata": {},
   "outputs": [],
   "source": [
    "random_state = da.random.RandomState(1234)\n",
    "np.random.seed(1234)\n",
    "\n",
    "def adata_with_dask(M, N):\n",
    "    adata_dict = {}\n",
    "    adata_dict[\"X\"] = random_state.random((M, N))\n",
    "    adata_dict[\"obsm\"] = dict(\n",
    "        a=da.random.random((M, 100)),\n",
    "    )\n",
    "    adata_dict[\"layers\"] = dict(\n",
    "        a=da.random.random((M, N)),\n",
    "    )\n",
    "    adata_dict[\"obs\"] = pd.DataFrame(\n",
    "        {\"batch\": np.random.choice([\"a\", \"b\"], M)},\n",
    "        index=[f\"cell{i:03d}\" for i in range(M)],\n",
    "    )\n",
    "    adata_dict[\"var\"] = pd.DataFrame(index=[f\"gene{i:03d}\" for i in range(N)])\n",
    "    \n",
    "    \n",
    "    return ad.AnnData(**adata_dict)"
   ]
  },
  {
   "cell_type": "markdown",
   "id": "bc83fbb8-ab85-40d5-81b9-c85099b1bc97",
   "metadata": {},
   "source": [
    "Creating and inspecting a Dask-backed AnnData:"
   ]
  },
  {
   "cell_type": "code",
   "execution_count": 3,
   "id": "769ecca2",
   "metadata": {},
   "outputs": [
    {
     "data": {
      "text/plain": [
       "AnnData object with n_obs × n_vars = 8192 × 8192\n",
       "    obs: 'batch'\n",
       "    obsm: 'a'\n",
       "    layers: 'a'"
      ]
     },
     "execution_count": 3,
     "metadata": {},
     "output_type": "execute_result"
    }
   ],
   "source": [
    "adata = adata_with_dask(8192, 8192)\n",
    "adata"
   ]
  },
  {
   "cell_type": "markdown",
   "id": "621729a6",
   "metadata": {},
   "source": [
    "## Representation of Dask Arrays\n",
    "\n",
    "[Dask arrays](https://docs.dask.org/en/stable/array.html) consist of \"chunks,\" which are computed lazily, and can be distributed across machines. In the figure below, each small square represents a chunk of the overall Dask array:"
   ]
  },
  {
   "cell_type": "code",
   "execution_count": 4,
   "id": "48f14de5",
   "metadata": {},
   "outputs": [
    {
     "data": {
      "text/html": [
       "<table>\n",
       "    <tr>\n",
       "        <td>\n",
       "            <table style=\"border-collapse: collapse;\">\n",
       "                <thead>\n",
       "                    <tr>\n",
       "                        <td> </td>\n",
       "                        <th> Array </th>\n",
       "                        <th> Chunk </th>\n",
       "                    </tr>\n",
       "                </thead>\n",
       "                <tbody>\n",
       "                    \n",
       "                    <tr>\n",
       "                        <th> Bytes </th>\n",
       "                        <td> 512.00 MiB </td>\n",
       "                        <td> 128.00 MiB </td>\n",
       "                    </tr>\n",
       "                    \n",
       "                    <tr>\n",
       "                        <th> Shape </th>\n",
       "                        <td> (8192, 8192) </td>\n",
       "                        <td> (4096, 4096) </td>\n",
       "                    </tr>\n",
       "                    <tr>\n",
       "                        <th> Dask graph </th>\n",
       "                        <td colspan=\"2\"> 4 chunks in 1 graph layer </td>\n",
       "                    </tr>\n",
       "                    <tr>\n",
       "                        <th> Data type </th>\n",
       "                        <td colspan=\"2\"> float64 numpy.ndarray </td>\n",
       "                    </tr>\n",
       "                </tbody>\n",
       "            </table>\n",
       "        </td>\n",
       "        <td>\n",
       "        <svg width=\"170\" height=\"170\" style=\"stroke:rgb(0,0,0);stroke-width:1\" >\n",
       "\n",
       "  <!-- Horizontal lines -->\n",
       "  <line x1=\"0\" y1=\"0\" x2=\"120\" y2=\"0\" style=\"stroke-width:2\" />\n",
       "  <line x1=\"0\" y1=\"60\" x2=\"120\" y2=\"60\" />\n",
       "  <line x1=\"0\" y1=\"120\" x2=\"120\" y2=\"120\" style=\"stroke-width:2\" />\n",
       "\n",
       "  <!-- Vertical lines -->\n",
       "  <line x1=\"0\" y1=\"0\" x2=\"0\" y2=\"120\" style=\"stroke-width:2\" />\n",
       "  <line x1=\"60\" y1=\"0\" x2=\"60\" y2=\"120\" />\n",
       "  <line x1=\"120\" y1=\"0\" x2=\"120\" y2=\"120\" style=\"stroke-width:2\" />\n",
       "\n",
       "  <!-- Colored Rectangle -->\n",
       "  <polygon points=\"0.0,0.0 120.0,0.0 120.0,120.0 0.0,120.0\" style=\"fill:#ECB172A0;stroke-width:0\"/>\n",
       "\n",
       "  <!-- Text -->\n",
       "  <text x=\"60.000000\" y=\"140.000000\" font-size=\"1.0rem\" font-weight=\"100\" text-anchor=\"middle\" >8192</text>\n",
       "  <text x=\"140.000000\" y=\"60.000000\" font-size=\"1.0rem\" font-weight=\"100\" text-anchor=\"middle\" transform=\"rotate(-90,140.000000,60.000000)\">8192</text>\n",
       "</svg>\n",
       "        </td>\n",
       "    </tr>\n",
       "</table>"
      ],
      "text/plain": [
       "dask.array<random_sample, shape=(8192, 8192), dtype=float64, chunksize=(4096, 4096), chunktype=numpy.ndarray>"
      ]
     },
     "execution_count": 4,
     "metadata": {},
     "output_type": "execute_result"
    }
   ],
   "source": [
    "adata.X"
   ]
  },
  {
   "cell_type": "code",
   "execution_count": 5,
   "id": "f0ad22fd",
   "metadata": {},
   "outputs": [
    {
     "data": {
      "text/html": [
       "<table>\n",
       "    <tr>\n",
       "        <td>\n",
       "            <table style=\"border-collapse: collapse;\">\n",
       "                <thead>\n",
       "                    <tr>\n",
       "                        <td> </td>\n",
       "                        <th> Array </th>\n",
       "                        <th> Chunk </th>\n",
       "                    </tr>\n",
       "                </thead>\n",
       "                <tbody>\n",
       "                    \n",
       "                    <tr>\n",
       "                        <th> Bytes </th>\n",
       "                        <td> 6.25 MiB </td>\n",
       "                        <td> 6.25 MiB </td>\n",
       "                    </tr>\n",
       "                    \n",
       "                    <tr>\n",
       "                        <th> Shape </th>\n",
       "                        <td> (8192, 100) </td>\n",
       "                        <td> (8192, 100) </td>\n",
       "                    </tr>\n",
       "                    <tr>\n",
       "                        <th> Dask graph </th>\n",
       "                        <td colspan=\"2\"> 1 chunks in 1 graph layer </td>\n",
       "                    </tr>\n",
       "                    <tr>\n",
       "                        <th> Data type </th>\n",
       "                        <td colspan=\"2\"> float64 numpy.ndarray </td>\n",
       "                    </tr>\n",
       "                </tbody>\n",
       "            </table>\n",
       "        </td>\n",
       "        <td>\n",
       "        <svg width=\"76\" height=\"170\" style=\"stroke:rgb(0,0,0);stroke-width:1\" >\n",
       "\n",
       "  <!-- Horizontal lines -->\n",
       "  <line x1=\"0\" y1=\"0\" x2=\"26\" y2=\"0\" style=\"stroke-width:2\" />\n",
       "  <line x1=\"0\" y1=\"120\" x2=\"26\" y2=\"120\" style=\"stroke-width:2\" />\n",
       "\n",
       "  <!-- Vertical lines -->\n",
       "  <line x1=\"0\" y1=\"0\" x2=\"0\" y2=\"120\" style=\"stroke-width:2\" />\n",
       "  <line x1=\"26\" y1=\"0\" x2=\"26\" y2=\"120\" style=\"stroke-width:2\" />\n",
       "\n",
       "  <!-- Colored Rectangle -->\n",
       "  <polygon points=\"0.0,0.0 26.39280752788769,0.0 26.39280752788769,120.0 0.0,120.0\" style=\"fill:#ECB172A0;stroke-width:0\"/>\n",
       "\n",
       "  <!-- Text -->\n",
       "  <text x=\"13.196404\" y=\"140.000000\" font-size=\"1.0rem\" font-weight=\"100\" text-anchor=\"middle\" >100</text>\n",
       "  <text x=\"46.392808\" y=\"60.000000\" font-size=\"1.0rem\" font-weight=\"100\" text-anchor=\"middle\" transform=\"rotate(-90,46.392808,60.000000)\">8192</text>\n",
       "</svg>\n",
       "        </td>\n",
       "    </tr>\n",
       "</table>"
      ],
      "text/plain": [
       "dask.array<random_sample, shape=(8192, 100), dtype=float64, chunksize=(8192, 100), chunktype=numpy.ndarray>"
      ]
     },
     "execution_count": 5,
     "metadata": {},
     "output_type": "execute_result"
    }
   ],
   "source": [
    "adata.obsm['a']"
   ]
  },
  {
   "cell_type": "markdown",
   "id": "b985283b-25af-436f-aa5e-4665bfe08357",
   "metadata": {},
   "source": [
    "## The Computation Graph\n",
    "Operations on Dask arrays aren't performed instantly. Instead, a computation graph is built, which Dask can later optimize before executing. This also means Dask doesn't occupy resources for results we expect later. Below is a representation of the chunks we initially created."
   ]
  },
  {
   "cell_type": "code",
   "execution_count": 6,
   "id": "d51e61bb-acbf-4de5-9531-de75614bd9ba",
   "metadata": {},
   "outputs": [
    {
     "data": {
      "image/png": "[encoded data removed]",
      "text/plain": [
       "<IPython.core.display.Image object>"
      ]
     },
     "execution_count": 6,
     "metadata": {},
     "output_type": "execute_result"
    }
   ],
   "source": [
    "adata.X.visualize()"
   ]
  },
  {
   "cell_type": "markdown",
   "id": "02677f13-6ad7-4e55-9d6f-1368593be9d4",
   "metadata": {},
   "source": [
    "We now show an example for this computation graph on dask arrays to understand it better. This part is not technically relevant to AnnData."
   ]
  },
  {
   "cell_type": "code",
   "execution_count": 7,
   "id": "56b1d1bb-221a-4df2-89a4-23d7b2e4a435",
   "metadata": {},
   "outputs": [
    {
     "data": {
      "text/html": [
       "<table>\n",
       "    <tr>\n",
       "        <td>\n",
       "            <table style=\"border-collapse: collapse;\">\n",
       "                <thead>\n",
       "                    <tr>\n",
       "                        <td> </td>\n",
       "                        <th> Array </th>\n",
       "                        <th> Chunk </th>\n",
       "                    </tr>\n",
       "                </thead>\n",
       "                <tbody>\n",
       "                    \n",
       "                    <tr>\n",
       "                        <th> Bytes </th>\n",
       "                        <td> 64.00 kiB </td>\n",
       "                        <td> 32.00 kiB </td>\n",
       "                    </tr>\n",
       "                    \n",
       "                    <tr>\n",
       "                        <th> Shape </th>\n",
       "                        <td> (8192,) </td>\n",
       "                        <td> (4096,) </td>\n",
       "                    </tr>\n",
       "                    <tr>\n",
       "                        <th> Dask graph </th>\n",
       "                        <td colspan=\"2\"> 2 chunks in 3 graph layers </td>\n",
       "                    </tr>\n",
       "                    <tr>\n",
       "                        <th> Data type </th>\n",
       "                        <td colspan=\"2\"> float64 numpy.ndarray </td>\n",
       "                    </tr>\n",
       "                </tbody>\n",
       "            </table>\n",
       "        </td>\n",
       "        <td>\n",
       "        <svg width=\"170\" height=\"75\" style=\"stroke:rgb(0,0,0);stroke-width:1\" >\n",
       "\n",
       "  <!-- Horizontal lines -->\n",
       "  <line x1=\"0\" y1=\"0\" x2=\"120\" y2=\"0\" style=\"stroke-width:2\" />\n",
       "  <line x1=\"0\" y1=\"25\" x2=\"120\" y2=\"25\" style=\"stroke-width:2\" />\n",
       "\n",
       "  <!-- Vertical lines -->\n",
       "  <line x1=\"0\" y1=\"0\" x2=\"0\" y2=\"25\" style=\"stroke-width:2\" />\n",
       "  <line x1=\"60\" y1=\"0\" x2=\"60\" y2=\"25\" />\n",
       "  <line x1=\"120\" y1=\"0\" x2=\"120\" y2=\"25\" style=\"stroke-width:2\" />\n",
       "\n",
       "  <!-- Colored Rectangle -->\n",
       "  <polygon points=\"0.0,0.0 120.0,0.0 120.0,25.412616514582485 0.0,25.412616514582485\" style=\"fill:#ECB172A0;stroke-width:0\"/>\n",
       "\n",
       "  <!-- Text -->\n",
       "  <text x=\"60.000000\" y=\"45.412617\" font-size=\"1.0rem\" font-weight=\"100\" text-anchor=\"middle\" >8192</text>\n",
       "  <text x=\"140.000000\" y=\"12.706308\" font-size=\"1.0rem\" font-weight=\"100\" text-anchor=\"middle\" transform=\"rotate(0,140.000000,12.706308)\">1</text>\n",
       "</svg>\n",
       "        </td>\n",
       "    </tr>\n",
       "</table>"
      ],
      "text/plain": [
       "dask.array<sum-aggregate, shape=(8192,), dtype=float64, chunksize=(4096,), chunktype=numpy.ndarray>"
      ]
     },
     "execution_count": 7,
     "metadata": {},
     "output_type": "execute_result"
    }
   ],
   "source": [
    "xsum = adata.X.sum(axis=1)  # Sum each row of the array\n",
    "xsum"
   ]
  },
  {
   "cell_type": "markdown",
   "id": "65dd581f-587d-4ebf-958b-49624c26b1b5",
   "metadata": {},
   "source": [
    "Note that this computation hasn't been performed yet, but was saved, to run later. Investigating the computation graph, we see that some chunks aren't dependent on others. This allows Dask to parallelize computations, and store chunks that depend on each other on the same machine. For this simple exercise, all chunks are stored on one machine, but this is especially useful with larger data, where that is impossible."
   ]
  },
  {
   "cell_type": "code",
   "execution_count": 8,
   "id": "3cdc324d-5dc4-4299-9645-4b2ba21b5f88",
   "metadata": {},
   "outputs": [
    {
     "data": {
      "image/png": "[encoded data removed]",
      "text/plain": [
       "<IPython.core.display.Image object>"
      ]
     },
     "execution_count": 8,
     "metadata": {},
     "output_type": "execute_result"
    }
   ],
   "source": [
    "xsum.visualize()"
   ]
  },
  {
   "cell_type": "markdown",
   "id": "c1430611-6914-449c-a474-c3fab9eaaaee",
   "metadata": {},
   "source": [
    "Despite creating the graph above, nothing has changed with our original anndata:"
   ]
  },
  {
   "cell_type": "code",
   "execution_count": 9,
   "id": "415175ea-1105-482f-a574-2b845ba23feb",
   "metadata": {},
   "outputs": [
    {
     "data": {
      "image/png": "[encoded data removed]",
      "text/plain": [
       "<IPython.core.display.Image object>"
      ]
     },
     "execution_count": 9,
     "metadata": {},
     "output_type": "execute_result"
    }
   ],
   "source": [
    "adata.X.visualize()"
   ]
  },
  {
   "cell_type": "markdown",
   "id": "28b8078d",
   "metadata": {},
   "source": [
    "## Concatenation\n",
    "\n",
    "In this section we will cover concatenating Dask-backed AnnData objects. First, we create another anndata object to concatenate with:"
   ]
  },
  {
   "cell_type": "code",
   "execution_count": 10,
   "id": "b03c9a13",
   "metadata": {},
   "outputs": [
    {
     "data": {
      "text/plain": [
       "AnnData object with n_obs × n_vars = 8192 × 8192\n",
       "    obs: 'batch'\n",
       "    obsm: 'a'\n",
       "    layers: 'a'"
      ]
     },
     "execution_count": 10,
     "metadata": {},
     "output_type": "execute_result"
    }
   ],
   "source": [
    "adata2 = adata_with_dask(8192, 8192)\n",
    "adata2"
   ]
  },
  {
   "cell_type": "markdown",
   "id": "a828bce3-d91f-4a03-94c6-b9f139ad2261",
   "metadata": {},
   "source": [
    "The `X` attribute of this adata also consists of four chunks:"
   ]
  },
  {
   "cell_type": "code",
   "execution_count": 11,
   "id": "884ff189-d29b-41fb-bf2b-a1c6d61a0ca8",
   "metadata": {},
   "outputs": [
    {
     "data": {
      "text/html": [
       "<table>\n",
       "    <tr>\n",
       "        <td>\n",
       "            <table style=\"border-collapse: collapse;\">\n",
       "                <thead>\n",
       "                    <tr>\n",
       "                        <td> </td>\n",
       "                        <th> Array </th>\n",
       "                        <th> Chunk </th>\n",
       "                    </tr>\n",
       "                </thead>\n",
       "                <tbody>\n",
       "                    \n",
       "                    <tr>\n",
       "                        <th> Bytes </th>\n",
       "                        <td> 512.00 MiB </td>\n",
       "                        <td> 128.00 MiB </td>\n",
       "                    </tr>\n",
       "                    \n",
       "                    <tr>\n",
       "                        <th> Shape </th>\n",
       "                        <td> (8192, 8192) </td>\n",
       "                        <td> (4096, 4096) </td>\n",
       "                    </tr>\n",
       "                    <tr>\n",
       "                        <th> Dask graph </th>\n",
       "                        <td colspan=\"2\"> 4 chunks in 1 graph layer </td>\n",
       "                    </tr>\n",
       "                    <tr>\n",
       "                        <th> Data type </th>\n",
       "                        <td colspan=\"2\"> float64 numpy.ndarray </td>\n",
       "                    </tr>\n",
       "                </tbody>\n",
       "            </table>\n",
       "        </td>\n",
       "        <td>\n",
       "        <svg width=\"170\" height=\"170\" style=\"stroke:rgb(0,0,0);stroke-width:1\" >\n",
       "\n",
       "  <!-- Horizontal lines -->\n",
       "  <line x1=\"0\" y1=\"0\" x2=\"120\" y2=\"0\" style=\"stroke-width:2\" />\n",
       "  <line x1=\"0\" y1=\"60\" x2=\"120\" y2=\"60\" />\n",
       "  <line x1=\"0\" y1=\"120\" x2=\"120\" y2=\"120\" style=\"stroke-width:2\" />\n",
       "\n",
       "  <!-- Vertical lines -->\n",
       "  <line x1=\"0\" y1=\"0\" x2=\"0\" y2=\"120\" style=\"stroke-width:2\" />\n",
       "  <line x1=\"60\" y1=\"0\" x2=\"60\" y2=\"120\" />\n",
       "  <line x1=\"120\" y1=\"0\" x2=\"120\" y2=\"120\" style=\"stroke-width:2\" />\n",
       "\n",
       "  <!-- Colored Rectangle -->\n",
       "  <polygon points=\"0.0,0.0 120.0,0.0 120.0,120.0 0.0,120.0\" style=\"fill:#ECB172A0;stroke-width:0\"/>\n",
       "\n",
       "  <!-- Text -->\n",
       "  <text x=\"60.000000\" y=\"140.000000\" font-size=\"1.0rem\" font-weight=\"100\" text-anchor=\"middle\" >8192</text>\n",
       "  <text x=\"140.000000\" y=\"60.000000\" font-size=\"1.0rem\" font-weight=\"100\" text-anchor=\"middle\" transform=\"rotate(-90,140.000000,60.000000)\">8192</text>\n",
       "</svg>\n",
       "        </td>\n",
       "    </tr>\n",
       "</table>"
      ],
      "text/plain": [
       "dask.array<random_sample, shape=(8192, 8192), dtype=float64, chunksize=(4096, 4096), chunktype=numpy.ndarray>"
      ]
     },
     "execution_count": 11,
     "metadata": {},
     "output_type": "execute_result"
    }
   ],
   "source": [
    "adata2.X"
   ]
  },
  {
   "cell_type": "code",
   "execution_count": 12,
   "id": "004872f4",
   "metadata": {},
   "outputs": [],
   "source": [
    "adata_concat = ad.concat([adata, adata2],index_unique='id')"
   ]
  },
  {
   "cell_type": "markdown",
   "id": "2b116dd0-9d4b-44a5-8639-11d0f328ec45",
   "metadata": {},
   "source": [
    "When we concatenate the two adatas, the resulting `X` consists of the eight chunks from the source adatas:"
   ]
  },
  {
   "cell_type": "code",
   "execution_count": 13,
   "id": "2859934b",
   "metadata": {},
   "outputs": [
    {
     "data": {
      "text/html": [
       "<table>\n",
       "    <tr>\n",
       "        <td>\n",
       "            <table style=\"border-collapse: collapse;\">\n",
       "                <thead>\n",
       "                    <tr>\n",
       "                        <td> </td>\n",
       "                        <th> Array </th>\n",
       "                        <th> Chunk </th>\n",
       "                    </tr>\n",
       "                </thead>\n",
       "                <tbody>\n",
       "                    \n",
       "                    <tr>\n",
       "                        <th> Bytes </th>\n",
       "                        <td> 1.00 GiB </td>\n",
       "                        <td> 128.00 MiB </td>\n",
       "                    </tr>\n",
       "                    \n",
       "                    <tr>\n",
       "                        <th> Shape </th>\n",
       "                        <td> (16384, 8192) </td>\n",
       "                        <td> (4096, 4096) </td>\n",
       "                    </tr>\n",
       "                    <tr>\n",
       "                        <th> Dask graph </th>\n",
       "                        <td colspan=\"2\"> 8 chunks in 3 graph layers </td>\n",
       "                    </tr>\n",
       "                    <tr>\n",
       "                        <th> Data type </th>\n",
       "                        <td colspan=\"2\"> float64 numpy.ndarray </td>\n",
       "                    </tr>\n",
       "                </tbody>\n",
       "            </table>\n",
       "        </td>\n",
       "        <td>\n",
       "        <svg width=\"110\" height=\"170\" style=\"stroke:rgb(0,0,0);stroke-width:1\" >\n",
       "\n",
       "  <!-- Horizontal lines -->\n",
       "  <line x1=\"0\" y1=\"0\" x2=\"60\" y2=\"0\" style=\"stroke-width:2\" />\n",
       "  <line x1=\"0\" y1=\"30\" x2=\"60\" y2=\"30\" />\n",
       "  <line x1=\"0\" y1=\"60\" x2=\"60\" y2=\"60\" />\n",
       "  <line x1=\"0\" y1=\"90\" x2=\"60\" y2=\"90\" />\n",
       "  <line x1=\"0\" y1=\"120\" x2=\"60\" y2=\"120\" style=\"stroke-width:2\" />\n",
       "\n",
       "  <!-- Vertical lines -->\n",
       "  <line x1=\"0\" y1=\"0\" x2=\"0\" y2=\"120\" style=\"stroke-width:2\" />\n",
       "  <line x1=\"30\" y1=\"0\" x2=\"30\" y2=\"120\" />\n",
       "  <line x1=\"60\" y1=\"0\" x2=\"60\" y2=\"120\" style=\"stroke-width:2\" />\n",
       "\n",
       "  <!-- Colored Rectangle -->\n",
       "  <polygon points=\"0.0,0.0 60.0,0.0 60.0,120.0 0.0,120.0\" style=\"fill:#ECB172A0;stroke-width:0\"/>\n",
       "\n",
       "  <!-- Text -->\n",
       "  <text x=\"30.000000\" y=\"140.000000\" font-size=\"1.0rem\" font-weight=\"100\" text-anchor=\"middle\" >8192</text>\n",
       "  <text x=\"80.000000\" y=\"60.000000\" font-size=\"1.0rem\" font-weight=\"100\" text-anchor=\"middle\" transform=\"rotate(-90,80.000000,60.000000)\">16384</text>\n",
       "</svg>\n",
       "        </td>\n",
       "    </tr>\n",
       "</table>"
      ],
      "text/plain": [
       "dask.array<concatenate, shape=(16384, 8192), dtype=float64, chunksize=(4096, 4096), chunktype=numpy.ndarray>"
      ]
     },
     "execution_count": 13,
     "metadata": {},
     "output_type": "execute_result"
    }
   ],
   "source": [
    "adata_concat.X"
   ]
  },
  {
   "cell_type": "markdown",
   "id": "d236d2d3-74a5-4a5c-a56d-92ec023be954",
   "metadata": {},
   "source": [
    "Looking at the computation graph, we can confirm that the new `X`'s chunks are just those of the source `X`'s."
   ]
  },
  {
   "cell_type": "code",
   "execution_count": 14,
   "id": "e391a570",
   "metadata": {},
   "outputs": [
    {
     "data": {
      "image/png": "[encoded data removed]",
      "text/plain": [
       "<IPython.core.display.Image object>"
      ]
     },
     "execution_count": 14,
     "metadata": {},
     "output_type": "execute_result"
    }
   ],
   "source": [
    "adata_concat.X.visualize()"
   ]
  },
  {
   "cell_type": "markdown",
   "id": "6bcc4eb3-d3ba-4830-ae77-52aa52df1127",
   "metadata": {},
   "source": [
    "The new adata's `obsm` is similar: one chunk from each input adata, stacked."
   ]
  },
  {
   "cell_type": "code",
   "execution_count": 15,
   "id": "455754c5",
   "metadata": {},
   "outputs": [
    {
     "data": {
      "text/html": [
       "<table>\n",
       "    <tr>\n",
       "        <td>\n",
       "            <table style=\"border-collapse: collapse;\">\n",
       "                <thead>\n",
       "                    <tr>\n",
       "                        <td> </td>\n",
       "                        <th> Array </th>\n",
       "                        <th> Chunk </th>\n",
       "                    </tr>\n",
       "                </thead>\n",
       "                <tbody>\n",
       "                    \n",
       "                    <tr>\n",
       "                        <th> Bytes </th>\n",
       "                        <td> 12.50 MiB </td>\n",
       "                        <td> 6.25 MiB </td>\n",
       "                    </tr>\n",
       "                    \n",
       "                    <tr>\n",
       "                        <th> Shape </th>\n",
       "                        <td> (16384, 100) </td>\n",
       "                        <td> (8192, 100) </td>\n",
       "                    </tr>\n",
       "                    <tr>\n",
       "                        <th> Dask graph </th>\n",
       "                        <td colspan=\"2\"> 2 chunks in 3 graph layers </td>\n",
       "                    </tr>\n",
       "                    <tr>\n",
       "                        <th> Data type </th>\n",
       "                        <td colspan=\"2\"> float64 numpy.ndarray </td>\n",
       "                    </tr>\n",
       "                </tbody>\n",
       "            </table>\n",
       "        </td>\n",
       "        <td>\n",
       "        <svg width=\"75\" height=\"170\" style=\"stroke:rgb(0,0,0);stroke-width:1\" >\n",
       "\n",
       "  <!-- Horizontal lines -->\n",
       "  <line x1=\"0\" y1=\"0\" x2=\"25\" y2=\"0\" style=\"stroke-width:2\" />\n",
       "  <line x1=\"0\" y1=\"60\" x2=\"25\" y2=\"60\" />\n",
       "  <line x1=\"0\" y1=\"120\" x2=\"25\" y2=\"120\" style=\"stroke-width:2\" />\n",
       "\n",
       "  <!-- Vertical lines -->\n",
       "  <line x1=\"0\" y1=\"0\" x2=\"0\" y2=\"120\" style=\"stroke-width:2\" />\n",
       "  <line x1=\"25\" y1=\"0\" x2=\"25\" y2=\"120\" style=\"stroke-width:2\" />\n",
       "\n",
       "  <!-- Colored Rectangle -->\n",
       "  <polygon points=\"0.0,0.0 25.41261651458249,0.0 25.41261651458249,120.0 0.0,120.0\" style=\"fill:#ECB172A0;stroke-width:0\"/>\n",
       "\n",
       "  <!-- Text -->\n",
       "  <text x=\"12.706308\" y=\"140.000000\" font-size=\"1.0rem\" font-weight=\"100\" text-anchor=\"middle\" >100</text>\n",
       "  <text x=\"45.412617\" y=\"60.000000\" font-size=\"1.0rem\" font-weight=\"100\" text-anchor=\"middle\" transform=\"rotate(-90,45.412617,60.000000)\">16384</text>\n",
       "</svg>\n",
       "        </td>\n",
       "    </tr>\n",
       "</table>"
      ],
      "text/plain": [
       "dask.array<concatenate, shape=(16384, 100), dtype=float64, chunksize=(8192, 100), chunktype=numpy.ndarray>"
      ]
     },
     "execution_count": 15,
     "metadata": {},
     "output_type": "execute_result"
    }
   ],
   "source": [
    "adata_concat.obsm['a']"
   ]
  },
  {
   "cell_type": "code",
   "execution_count": 16,
   "id": "e1c25f85-db36-4050-8560-6fd0b546810b",
   "metadata": {},
   "outputs": [
    {
     "data": {
      "image/png": "[encoded data removed]",
      "text/plain": [
       "<IPython.core.display.Image object>"
      ]
     },
     "execution_count": 16,
     "metadata": {},
     "output_type": "execute_result"
    }
   ],
   "source": [
    "adata_concat.obsm['a'].visualize()"
   ]
  },
  {
   "cell_type": "markdown",
   "id": "d6fa473b-e033-4d49-afc5-2b902e258376",
   "metadata": {},
   "source": [
    "## Views\n",
    "\n",
    "Let's see how our views of AnnData objects play with Dask arrays."
   ]
  },
  {
   "cell_type": "markdown",
   "id": "6ad7dace-33d4-47a1-88d1-b05f360d0004",
   "metadata": {},
   "source": [
    "### Slice View\n",
    "\n",
    "\n",
    "\n",
    "We take a slice of the concatenated adatas. This operation returns a view of the adata which means that the resulting adata holds a view of the source adata's Dask array, namely the `DaskArrayView` class,  which is a completely different object than Dask array."
   ]
  },
  {
   "cell_type": "code",
   "execution_count": 17,
   "id": "a665fa1e",
   "metadata": {},
   "outputs": [],
   "source": [
    "adata_slice_view = adata_concat[:500, :][:, :500]"
   ]
  },
  {
   "cell_type": "markdown",
   "id": "8e799501-8009-4734-a095-8a9945e036cf",
   "metadata": {},
   "source": [
    "The result is still a \"lazy\" Dask array:"
   ]
  },
  {
   "cell_type": "code",
   "execution_count": 18,
   "id": "bca1d375",
   "metadata": {},
   "outputs": [
    {
     "data": {
      "text/html": [
       "<table>\n",
       "    <tr>\n",
       "        <td>\n",
       "            <table style=\"border-collapse: collapse;\">\n",
       "                <thead>\n",
       "                    <tr>\n",
       "                        <td> </td>\n",
       "                        <th> Array </th>\n",
       "                        <th> Chunk </th>\n",
       "                    </tr>\n",
       "                </thead>\n",
       "                <tbody>\n",
       "                    \n",
       "                    <tr>\n",
       "                        <th> Bytes </th>\n",
       "                        <td> 1.91 MiB </td>\n",
       "                        <td> 1.91 MiB </td>\n",
       "                    </tr>\n",
       "                    \n",
       "                    <tr>\n",
       "                        <th> Shape </th>\n",
       "                        <td> (500, 500) </td>\n",
       "                        <td> (500, 500) </td>\n",
       "                    </tr>\n",
       "                    <tr>\n",
       "                        <th> Dask graph </th>\n",
       "                        <td colspan=\"2\"> 1 chunks in 4 graph layers </td>\n",
       "                    </tr>\n",
       "                    <tr>\n",
       "                        <th> Data type </th>\n",
       "                        <td colspan=\"2\"> float64 numpy.ndarray </td>\n",
       "                    </tr>\n",
       "                </tbody>\n",
       "            </table>\n",
       "        </td>\n",
       "        <td>\n",
       "        <svg width=\"170\" height=\"170\" style=\"stroke:rgb(0,0,0);stroke-width:1\" >\n",
       "\n",
       "  <!-- Horizontal lines -->\n",
       "  <line x1=\"0\" y1=\"0\" x2=\"120\" y2=\"0\" style=\"stroke-width:2\" />\n",
       "  <line x1=\"0\" y1=\"120\" x2=\"120\" y2=\"120\" style=\"stroke-width:2\" />\n",
       "\n",
       "  <!-- Vertical lines -->\n",
       "  <line x1=\"0\" y1=\"0\" x2=\"0\" y2=\"120\" style=\"stroke-width:2\" />\n",
       "  <line x1=\"120\" y1=\"0\" x2=\"120\" y2=\"120\" style=\"stroke-width:2\" />\n",
       "\n",
       "  <!-- Colored Rectangle -->\n",
       "  <polygon points=\"0.0,0.0 120.0,0.0 120.0,120.0 0.0,120.0\" style=\"fill:#ECB172A0;stroke-width:0\"/>\n",
       "\n",
       "  <!-- Text -->\n",
       "  <text x=\"60.000000\" y=\"140.000000\" font-size=\"1.0rem\" font-weight=\"100\" text-anchor=\"middle\" >500</text>\n",
       "  <text x=\"140.000000\" y=\"60.000000\" font-size=\"1.0rem\" font-weight=\"100\" text-anchor=\"middle\" transform=\"rotate(-90,140.000000,60.000000)\">500</text>\n",
       "</svg>\n",
       "        </td>\n",
       "    </tr>\n",
       "</table>"
      ],
      "text/plain": [
       "dask.array<getitem, shape=(500, 500), dtype=float64, chunksize=(500, 500), chunktype=numpy.ndarray>"
      ]
     },
     "execution_count": 18,
     "metadata": {},
     "output_type": "execute_result"
    }
   ],
   "source": [
    "adata_slice_view.X"
   ]
  },
  {
   "cell_type": "markdown",
   "id": "76910cec-07c3-4506-9795-f9ef98f3a16e",
   "metadata": {},
   "source": [
    "Calling `.compute()` materializes the slice into memory:"
   ]
  },
  {
   "cell_type": "code",
   "execution_count": 19,
   "id": "5cfeb111-4965-4c37-9191-633027c566fa",
   "metadata": {},
   "outputs": [
    {
     "data": {
      "text/plain": [
       "array([[0.0108367 , 0.28382864, 0.9360798 , ..., 0.52618062, 0.59004764,\n",
       "        0.62039745],\n",
       "       [0.32746127, 0.76554293, 0.44635843, ..., 0.72054517, 0.17201924,\n",
       "        0.67597256],\n",
       "       [0.70930772, 0.10462946, 0.66942566, ..., 0.46777305, 0.85501837,\n",
       "        0.66550968],\n",
       "       ...,\n",
       "       [0.88829253, 0.03652444, 0.73521986, ..., 0.36912615, 0.33270242,\n",
       "        0.99651464],\n",
       "       [0.3738551 , 0.2144048 , 0.05395079, ..., 0.3716109 , 0.78776837,\n",
       "        0.25162666],\n",
       "       [0.60050641, 0.62585592, 0.98995585, ..., 0.03956337, 0.30491447,\n",
       "        0.97628516]], shape=(500, 500))"
      ]
     },
     "execution_count": 19,
     "metadata": {},
     "output_type": "execute_result"
    }
   ],
   "source": [
    "adata_slice_view.X.compute()"
   ]
  },
  {
   "cell_type": "markdown",
   "id": "0d62ea78-5206-4d4d-b8a1-ef1db50f9f6c",
   "metadata": {},
   "source": [
    "But the original adata remains unchanged:"
   ]
  },
  {
   "cell_type": "code",
   "execution_count": 20,
   "id": "109739e3",
   "metadata": {},
   "outputs": [
    {
     "data": {
      "text/html": [
       "<table>\n",
       "    <tr>\n",
       "        <td>\n",
       "            <table style=\"border-collapse: collapse;\">\n",
       "                <thead>\n",
       "                    <tr>\n",
       "                        <td> </td>\n",
       "                        <th> Array </th>\n",
       "                        <th> Chunk </th>\n",
       "                    </tr>\n",
       "                </thead>\n",
       "                <tbody>\n",
       "                    \n",
       "                    <tr>\n",
       "                        <th> Bytes </th>\n",
       "                        <td> 1.00 GiB </td>\n",
       "                        <td> 128.00 MiB </td>\n",
       "                    </tr>\n",
       "                    \n",
       "                    <tr>\n",
       "                        <th> Shape </th>\n",
       "                        <td> (16384, 8192) </td>\n",
       "                        <td> (4096, 4096) </td>\n",
       "                    </tr>\n",
       "                    <tr>\n",
       "                        <th> Dask graph </th>\n",
       "                        <td colspan=\"2\"> 8 chunks in 3 graph layers </td>\n",
       "                    </tr>\n",
       "                    <tr>\n",
       "                        <th> Data type </th>\n",
       "                        <td colspan=\"2\"> float64 numpy.ndarray </td>\n",
       "                    </tr>\n",
       "                </tbody>\n",
       "            </table>\n",
       "        </td>\n",
       "        <td>\n",
       "        <svg width=\"110\" height=\"170\" style=\"stroke:rgb(0,0,0);stroke-width:1\" >\n",
       "\n",
       "  <!-- Horizontal lines -->\n",
       "  <line x1=\"0\" y1=\"0\" x2=\"60\" y2=\"0\" style=\"stroke-width:2\" />\n",
       "  <line x1=\"0\" y1=\"30\" x2=\"60\" y2=\"30\" />\n",
       "  <line x1=\"0\" y1=\"60\" x2=\"60\" y2=\"60\" />\n",
       "  <line x1=\"0\" y1=\"90\" x2=\"60\" y2=\"90\" />\n",
       "  <line x1=\"0\" y1=\"120\" x2=\"60\" y2=\"120\" style=\"stroke-width:2\" />\n",
       "\n",
       "  <!-- Vertical lines -->\n",
       "  <line x1=\"0\" y1=\"0\" x2=\"0\" y2=\"120\" style=\"stroke-width:2\" />\n",
       "  <line x1=\"30\" y1=\"0\" x2=\"30\" y2=\"120\" />\n",
       "  <line x1=\"60\" y1=\"0\" x2=\"60\" y2=\"120\" style=\"stroke-width:2\" />\n",
       "\n",
       "  <!-- Colored Rectangle -->\n",
       "  <polygon points=\"0.0,0.0 60.0,0.0 60.0,120.0 0.0,120.0\" style=\"fill:#ECB172A0;stroke-width:0\"/>\n",
       "\n",
       "  <!-- Text -->\n",
       "  <text x=\"30.000000\" y=\"140.000000\" font-size=\"1.0rem\" font-weight=\"100\" text-anchor=\"middle\" >8192</text>\n",
       "  <text x=\"80.000000\" y=\"60.000000\" font-size=\"1.0rem\" font-weight=\"100\" text-anchor=\"middle\" transform=\"rotate(-90,80.000000,60.000000)\">16384</text>\n",
       "</svg>\n",
       "        </td>\n",
       "    </tr>\n",
       "</table>"
      ],
      "text/plain": [
       "dask.array<concatenate, shape=(16384, 8192), dtype=float64, chunksize=(4096, 4096), chunktype=numpy.ndarray>"
      ]
     },
     "execution_count": 20,
     "metadata": {},
     "output_type": "execute_result"
    }
   ],
   "source": [
    "adata_concat.X"
   ]
  },
  {
   "cell_type": "markdown",
   "id": "73ec7c71-08fa-403a-9bd4-dd0f735764a0",
   "metadata": {},
   "source": [
    "### Index List View"
   ]
  },
  {
   "cell_type": "code",
   "execution_count": 21,
   "id": "cb0543c7",
   "metadata": {},
   "outputs": [
    {
     "data": {
      "text/plain": [
       "View of AnnData object with n_obs × n_vars = 5 × 3\n",
       "    obs: 'batch'\n",
       "    obsm: 'a'\n",
       "    layers: 'a'"
      ]
     },
     "execution_count": 21,
     "metadata": {},
     "output_type": "execute_result"
    }
   ],
   "source": [
    "small_view = adata_concat[[12, 12, 3, 5, 53],[1, 2, 5]]\n",
    "small_view"
   ]
  },
  {
   "cell_type": "code",
   "execution_count": 22,
   "id": "8362620d",
   "metadata": {
    "scrolled": true
   },
   "outputs": [
    {
     "data": {
      "text/html": [
       "<table>\n",
       "    <tr>\n",
       "        <td>\n",
       "            <table style=\"border-collapse: collapse;\">\n",
       "                <thead>\n",
       "                    <tr>\n",
       "                        <td> </td>\n",
       "                        <th> Array </th>\n",
       "                        <th> Chunk </th>\n",
       "                    </tr>\n",
       "                </thead>\n",
       "                <tbody>\n",
       "                    \n",
       "                    <tr>\n",
       "                        <th> Bytes </th>\n",
       "                        <td> 120 B </td>\n",
       "                        <td> 120 B </td>\n",
       "                    </tr>\n",
       "                    \n",
       "                    <tr>\n",
       "                        <th> Shape </th>\n",
       "                        <td> (5, 3) </td>\n",
       "                        <td> (5, 3) </td>\n",
       "                    </tr>\n",
       "                    <tr>\n",
       "                        <th> Dask graph </th>\n",
       "                        <td colspan=\"2\"> 1 chunks in 5 graph layers </td>\n",
       "                    </tr>\n",
       "                    <tr>\n",
       "                        <th> Data type </th>\n",
       "                        <td colspan=\"2\"> float64 numpy.ndarray </td>\n",
       "                    </tr>\n",
       "                </tbody>\n",
       "            </table>\n",
       "        </td>\n",
       "        <td>\n",
       "        <svg width=\"122\" height=\"170\" style=\"stroke:rgb(0,0,0);stroke-width:1\" >\n",
       "\n",
       "  <!-- Horizontal lines -->\n",
       "  <line x1=\"0\" y1=\"0\" x2=\"72\" y2=\"0\" style=\"stroke-width:2\" />\n",
       "  <line x1=\"0\" y1=\"120\" x2=\"72\" y2=\"120\" style=\"stroke-width:2\" />\n",
       "\n",
       "  <!-- Vertical lines -->\n",
       "  <line x1=\"0\" y1=\"0\" x2=\"0\" y2=\"120\" style=\"stroke-width:2\" />\n",
       "  <line x1=\"72\" y1=\"0\" x2=\"72\" y2=\"120\" style=\"stroke-width:2\" />\n",
       "\n",
       "  <!-- Colored Rectangle -->\n",
       "  <polygon points=\"0.0,0.0 72.0,0.0 72.0,120.0 0.0,120.0\" style=\"fill:#ECB172A0;stroke-width:0\"/>\n",
       "\n",
       "  <!-- Text -->\n",
       "  <text x=\"36.000000\" y=\"140.000000\" font-size=\"1.0rem\" font-weight=\"100\" text-anchor=\"middle\" >3</text>\n",
       "  <text x=\"92.000000\" y=\"60.000000\" font-size=\"1.0rem\" font-weight=\"100\" text-anchor=\"middle\" transform=\"rotate(0,92.000000,60.000000)\">5</text>\n",
       "</svg>\n",
       "        </td>\n",
       "    </tr>\n",
       "</table>"
      ],
      "text/plain": [
       "dask.array<getitem, shape=(5, 3), dtype=float64, chunksize=(5, 3), chunktype=numpy.ndarray>"
      ]
     },
     "execution_count": 22,
     "metadata": {},
     "output_type": "execute_result"
    }
   ],
   "source": [
    "small_view.X"
   ]
  },
  {
   "cell_type": "markdown",
   "id": "fbdf0cfb-6554-4bd8-9fcd-3598d9bff5b1",
   "metadata": {},
   "source": [
    "### View by Category"
   ]
  },
  {
   "cell_type": "code",
   "execution_count": 23,
   "id": "d19a9668-6603-432f-b94f-0975caf3af68",
   "metadata": {},
   "outputs": [],
   "source": [
    "mask = adata_concat.obs['batch'] == 'b'\n",
    "categ_view = adata_concat[mask]"
   ]
  },
  {
   "cell_type": "markdown",
   "id": "c344547b-059d-40ed-afa2-5f688d8a9896",
   "metadata": {},
   "source": [
    "`obs` is an in-memory `pd.DataFrame`, so `adata_concat.obs['batch'] == 'b'` is a boolean `pd.Series`, and each chunk is \"masked\" by its corresponding range."
   ]
  },
  {
   "cell_type": "code",
   "execution_count": 24,
   "id": "f278db22-86a7-4bbb-9738-4b9c64d9b995",
   "metadata": {},
   "outputs": [
    {
     "data": {
      "text/html": [
       "<table>\n",
       "    <tr>\n",
       "        <td>\n",
       "            <table style=\"border-collapse: collapse;\">\n",
       "                <thead>\n",
       "                    <tr>\n",
       "                        <td> </td>\n",
       "                        <th> Array </th>\n",
       "                        <th> Chunk </th>\n",
       "                    </tr>\n",
       "                </thead>\n",
       "                <tbody>\n",
       "                    \n",
       "                    <tr>\n",
       "                        <th> Bytes </th>\n",
       "                        <td> 510.50 MiB </td>\n",
       "                        <td> 128.00 MiB </td>\n",
       "                    </tr>\n",
       "                    \n",
       "                    <tr>\n",
       "                        <th> Shape </th>\n",
       "                        <td> (8168, 8192) </td>\n",
       "                        <td> (4096, 4096) </td>\n",
       "                    </tr>\n",
       "                    <tr>\n",
       "                        <th> Dask graph </th>\n",
       "                        <td colspan=\"2\"> 4 chunks in 4 graph layers </td>\n",
       "                    </tr>\n",
       "                    <tr>\n",
       "                        <th> Data type </th>\n",
       "                        <td colspan=\"2\"> float64 numpy.ndarray </td>\n",
       "                    </tr>\n",
       "                </tbody>\n",
       "            </table>\n",
       "        </td>\n",
       "        <td>\n",
       "        <svg width=\"170\" height=\"169\" style=\"stroke:rgb(0,0,0);stroke-width:1\" >\n",
       "\n",
       "  <!-- Horizontal lines -->\n",
       "  <line x1=\"0\" y1=\"0\" x2=\"120\" y2=\"0\" style=\"stroke-width:2\" />\n",
       "  <line x1=\"0\" y1=\"60\" x2=\"120\" y2=\"60\" />\n",
       "  <line x1=\"0\" y1=\"119\" x2=\"120\" y2=\"119\" style=\"stroke-width:2\" />\n",
       "\n",
       "  <!-- Vertical lines -->\n",
       "  <line x1=\"0\" y1=\"0\" x2=\"0\" y2=\"119\" style=\"stroke-width:2\" />\n",
       "  <line x1=\"60\" y1=\"0\" x2=\"60\" y2=\"119\" />\n",
       "  <line x1=\"120\" y1=\"0\" x2=\"120\" y2=\"119\" style=\"stroke-width:2\" />\n",
       "\n",
       "  <!-- Colored Rectangle -->\n",
       "  <polygon points=\"0.0,0.0 120.0,0.0 120.0,119.6484375 0.0,119.6484375\" style=\"fill:#ECB172A0;stroke-width:0\"/>\n",
       "\n",
       "  <!-- Text -->\n",
       "  <text x=\"60.000000\" y=\"139.648438\" font-size=\"1.0rem\" font-weight=\"100\" text-anchor=\"middle\" >8192</text>\n",
       "  <text x=\"140.000000\" y=\"59.824219\" font-size=\"1.0rem\" font-weight=\"100\" text-anchor=\"middle\" transform=\"rotate(-90,140.000000,59.824219)\">8168</text>\n",
       "</svg>\n",
       "        </td>\n",
       "    </tr>\n",
       "</table>"
      ],
      "text/plain": [
       "dask.array<getitem, shape=(8168, 8192), dtype=float64, chunksize=(4096, 4096), chunktype=numpy.ndarray>"
      ]
     },
     "execution_count": 24,
     "metadata": {},
     "output_type": "execute_result"
    }
   ],
   "source": [
    "categ_view.X"
   ]
  },
  {
   "cell_type": "markdown",
   "id": "ce6d3f88-9e13-45ad-9156-33a4f88b2b1c",
   "metadata": {},
   "source": [
    "The resulting number of rows matches the number of `True` elements in the `mask`:"
   ]
  },
  {
   "cell_type": "code",
   "execution_count": 25,
   "id": "2e9b22a4-27b3-46c6-bdb0-e57266807854",
   "metadata": {},
   "outputs": [
    {
     "data": {
      "text/plain": [
       "np.int64(8168)"
      ]
     },
     "execution_count": 25,
     "metadata": {},
     "output_type": "execute_result"
    }
   ],
   "source": [
    "mask.sum()"
   ]
  },
  {
   "cell_type": "markdown",
   "id": "0787478c",
   "metadata": {},
   "source": [
    "## To Memory"
   ]
  },
  {
   "cell_type": "code",
   "execution_count": 26,
   "id": "4aadf1c9",
   "metadata": {},
   "outputs": [
    {
     "data": {
      "text/html": [
       "<table>\n",
       "    <tr>\n",
       "        <td>\n",
       "            <table style=\"border-collapse: collapse;\">\n",
       "                <thead>\n",
       "                    <tr>\n",
       "                        <td> </td>\n",
       "                        <th> Array </th>\n",
       "                        <th> Chunk </th>\n",
       "                    </tr>\n",
       "                </thead>\n",
       "                <tbody>\n",
       "                    \n",
       "                    <tr>\n",
       "                        <th> Bytes </th>\n",
       "                        <td> 1.00 GiB </td>\n",
       "                        <td> 128.00 MiB </td>\n",
       "                    </tr>\n",
       "                    \n",
       "                    <tr>\n",
       "                        <th> Shape </th>\n",
       "                        <td> (16384, 8192) </td>\n",
       "                        <td> (4096, 4096) </td>\n",
       "                    </tr>\n",
       "                    <tr>\n",
       "                        <th> Dask graph </th>\n",
       "                        <td colspan=\"2\"> 8 chunks in 3 graph layers </td>\n",
       "                    </tr>\n",
       "                    <tr>\n",
       "                        <th> Data type </th>\n",
       "                        <td colspan=\"2\"> float64 numpy.ndarray </td>\n",
       "                    </tr>\n",
       "                </tbody>\n",
       "            </table>\n",
       "        </td>\n",
       "        <td>\n",
       "        <svg width=\"110\" height=\"170\" style=\"stroke:rgb(0,0,0);stroke-width:1\" >\n",
       "\n",
       "  <!-- Horizontal lines -->\n",
       "  <line x1=\"0\" y1=\"0\" x2=\"60\" y2=\"0\" style=\"stroke-width:2\" />\n",
       "  <line x1=\"0\" y1=\"30\" x2=\"60\" y2=\"30\" />\n",
       "  <line x1=\"0\" y1=\"60\" x2=\"60\" y2=\"60\" />\n",
       "  <line x1=\"0\" y1=\"90\" x2=\"60\" y2=\"90\" />\n",
       "  <line x1=\"0\" y1=\"120\" x2=\"60\" y2=\"120\" style=\"stroke-width:2\" />\n",
       "\n",
       "  <!-- Vertical lines -->\n",
       "  <line x1=\"0\" y1=\"0\" x2=\"0\" y2=\"120\" style=\"stroke-width:2\" />\n",
       "  <line x1=\"30\" y1=\"0\" x2=\"30\" y2=\"120\" />\n",
       "  <line x1=\"60\" y1=\"0\" x2=\"60\" y2=\"120\" style=\"stroke-width:2\" />\n",
       "\n",
       "  <!-- Colored Rectangle -->\n",
       "  <polygon points=\"0.0,0.0 60.0,0.0 60.0,120.0 0.0,120.0\" style=\"fill:#ECB172A0;stroke-width:0\"/>\n",
       "\n",
       "  <!-- Text -->\n",
       "  <text x=\"30.000000\" y=\"140.000000\" font-size=\"1.0rem\" font-weight=\"100\" text-anchor=\"middle\" >8192</text>\n",
       "  <text x=\"80.000000\" y=\"60.000000\" font-size=\"1.0rem\" font-weight=\"100\" text-anchor=\"middle\" transform=\"rotate(-90,80.000000,60.000000)\">16384</text>\n",
       "</svg>\n",
       "        </td>\n",
       "    </tr>\n",
       "</table>"
      ],
      "text/plain": [
       "dask.array<concatenate, shape=(16384, 8192), dtype=float64, chunksize=(4096, 4096), chunktype=numpy.ndarray>"
      ]
     },
     "execution_count": 26,
     "metadata": {},
     "output_type": "execute_result"
    }
   ],
   "source": [
    "adata_concat.X"
   ]
  },
  {
   "cell_type": "markdown",
   "id": "3d5fa2e0-5231-4236-be0c-2f3a1eec7a76",
   "metadata": {},
   "source": [
    "Here no copies are made, only the result of the lazy object is asked to be materialized."
   ]
  },
  {
   "cell_type": "code",
   "execution_count": 27,
   "id": "21e5d800",
   "metadata": {},
   "outputs": [
    {
     "data": {
      "text/plain": [
       "array([[0.0108367 , 0.28382864, 0.9360798 , ..., 0.92309787, 0.05939681,\n",
       "        0.89591249],\n",
       "       [0.32746127, 0.76554293, 0.44635843, ..., 0.02995244, 0.71811621,\n",
       "        0.49264767],\n",
       "       [0.70930772, 0.10462946, 0.66942566, ..., 0.15158576, 0.65742044,\n",
       "        0.45014383],\n",
       "       ...,\n",
       "       [0.39549188, 0.92320419, 0.17637048, ..., 0.65675201, 0.27528794,\n",
       "        0.17191972],\n",
       "       [0.88487203, 0.5408022 , 0.80737639, ..., 0.55172944, 0.9373794 ,\n",
       "        0.34597532],\n",
       "       [0.30054249, 0.53527011, 0.15589345, ..., 0.00963602, 0.33234463,\n",
       "        0.33513417]], shape=(16384, 8192))"
      ]
     },
     "execution_count": 27,
     "metadata": {},
     "output_type": "execute_result"
    }
   ],
   "source": [
    "adata_mem = adata_concat.to_memory(copy=False)\n",
    "adata_mem.X"
   ]
  },
  {
   "cell_type": "markdown",
   "id": "11282f53-ae2f-46cf-b257-b76189517f42",
   "metadata": {},
   "source": [
    "If you want to both materialize the result and copy."
   ]
  },
  {
   "cell_type": "code",
   "execution_count": 28,
   "id": "261a4d58-c238-4677-9890-e06a16f5cd22",
   "metadata": {},
   "outputs": [],
   "source": [
    "del adata_mem"
   ]
  },
  {
   "cell_type": "code",
   "execution_count": 29,
   "id": "6f88a1b5",
   "metadata": {},
   "outputs": [
    {
     "data": {
      "text/plain": [
       "array([[0.0108367 , 0.28382864, 0.9360798 , ..., 0.92309787, 0.05939681,\n",
       "        0.89591249],\n",
       "       [0.32746127, 0.76554293, 0.44635843, ..., 0.02995244, 0.71811621,\n",
       "        0.49264767],\n",
       "       [0.70930772, 0.10462946, 0.66942566, ..., 0.15158576, 0.65742044,\n",
       "        0.45014383],\n",
       "       ...,\n",
       "       [0.39549188, 0.92320419, 0.17637048, ..., 0.65675201, 0.27528794,\n",
       "        0.17191972],\n",
       "       [0.88487203, 0.5408022 , 0.80737639, ..., 0.55172944, 0.9373794 ,\n",
       "        0.34597532],\n",
       "       [0.30054249, 0.53527011, 0.15589345, ..., 0.00963602, 0.33234463,\n",
       "        0.33513417]], shape=(16384, 8192))"
      ]
     },
     "execution_count": 29,
     "metadata": {},
     "output_type": "execute_result"
    }
   ],
   "source": [
    "adata_mem = adata_concat.to_memory(copy=True)\n",
    "adata_mem.X"
   ]
  },
  {
   "cell_type": "markdown",
   "id": "5154ceb5-8a8b-4c0d-84e9-530ee6d7e164",
   "metadata": {},
   "source": [
    "## IO operations\n",
    "\n",
    "Dask-backed adatas can be saved as `h5ad` or [Zarr](https://zarr.dev/), but note that this materializes the lazy objects.\n",
    "\n",
    "Reading `h5ad`/Zarr files doesn't currently support loading dask arrays."
   ]
  },
  {
   "cell_type": "markdown",
   "id": "97cc6eca-3545-4f13-876a-61aa42198a51",
   "metadata": {},
   "source": [
    "### Write h5ad"
   ]
  },
  {
   "cell_type": "code",
   "execution_count": 30,
   "id": "97c16a37-8326-40fd-b97b-2a79090c666e",
   "metadata": {},
   "outputs": [],
   "source": [
    "adata = adata_with_dask(100, 100)"
   ]
  },
  {
   "cell_type": "code",
   "execution_count": 31,
   "id": "f0e1b0f5-434c-469e-9366-3537e61711e4",
   "metadata": {},
   "outputs": [],
   "source": [
    "adata.write_h5ad('a1.h5ad')"
   ]
  },
  {
   "cell_type": "code",
   "execution_count": 32,
   "id": "44aba881-1ecb-4cec-9770-4b5989197a15",
   "metadata": {},
   "outputs": [
    {
     "data": {
      "text/html": [
       "<table>\n",
       "    <tr>\n",
       "        <td>\n",
       "            <table style=\"border-collapse: collapse;\">\n",
       "                <thead>\n",
       "                    <tr>\n",
       "                        <td> </td>\n",
       "                        <th> Array </th>\n",
       "                        <th> Chunk </th>\n",
       "                    </tr>\n",
       "                </thead>\n",
       "                <tbody>\n",
       "                    \n",
       "                    <tr>\n",
       "                        <th> Bytes </th>\n",
       "                        <td> 78.12 kiB </td>\n",
       "                        <td> 78.12 kiB </td>\n",
       "                    </tr>\n",
       "                    \n",
       "                    <tr>\n",
       "                        <th> Shape </th>\n",
       "                        <td> (100, 100) </td>\n",
       "                        <td> (100, 100) </td>\n",
       "                    </tr>\n",
       "                    <tr>\n",
       "                        <th> Dask graph </th>\n",
       "                        <td colspan=\"2\"> 1 chunks in 1 graph layer </td>\n",
       "                    </tr>\n",
       "                    <tr>\n",
       "                        <th> Data type </th>\n",
       "                        <td colspan=\"2\"> float64 numpy.ndarray </td>\n",
       "                    </tr>\n",
       "                </tbody>\n",
       "            </table>\n",
       "        </td>\n",
       "        <td>\n",
       "        <svg width=\"170\" height=\"170\" style=\"stroke:rgb(0,0,0);stroke-width:1\" >\n",
       "\n",
       "  <!-- Horizontal lines -->\n",
       "  <line x1=\"0\" y1=\"0\" x2=\"120\" y2=\"0\" style=\"stroke-width:2\" />\n",
       "  <line x1=\"0\" y1=\"120\" x2=\"120\" y2=\"120\" style=\"stroke-width:2\" />\n",
       "\n",
       "  <!-- Vertical lines -->\n",
       "  <line x1=\"0\" y1=\"0\" x2=\"0\" y2=\"120\" style=\"stroke-width:2\" />\n",
       "  <line x1=\"120\" y1=\"0\" x2=\"120\" y2=\"120\" style=\"stroke-width:2\" />\n",
       "\n",
       "  <!-- Colored Rectangle -->\n",
       "  <polygon points=\"0.0,0.0 120.0,0.0 120.0,120.0 0.0,120.0\" style=\"fill:#ECB172A0;stroke-width:0\"/>\n",
       "\n",
       "  <!-- Text -->\n",
       "  <text x=\"60.000000\" y=\"140.000000\" font-size=\"1.0rem\" font-weight=\"100\" text-anchor=\"middle\" >100</text>\n",
       "  <text x=\"140.000000\" y=\"60.000000\" font-size=\"1.0rem\" font-weight=\"100\" text-anchor=\"middle\" transform=\"rotate(-90,140.000000,60.000000)\">100</text>\n",
       "</svg>\n",
       "        </td>\n",
       "    </tr>\n",
       "</table>"
      ],
      "text/plain": [
       "dask.array<random_sample, shape=(100, 100), dtype=float64, chunksize=(100, 100), chunktype=numpy.ndarray>"
      ]
     },
     "execution_count": 32,
     "metadata": {},
     "output_type": "execute_result"
    }
   ],
   "source": [
    "adata.X"
   ]
  },
  {
   "cell_type": "markdown",
   "id": "2d390470-bff0-4227-83a9-6b07593325d5",
   "metadata": {},
   "source": [
    "### Read h5ad"
   ]
  },
  {
   "cell_type": "code",
   "execution_count": 33,
   "id": "a0b5a461-6eb6-405e-8f30-90ed5f14fee4",
   "metadata": {},
   "outputs": [],
   "source": [
    "h5ad_adata = ad.read_h5ad('a1.h5ad')"
   ]
  },
  {
   "cell_type": "code",
   "execution_count": 34,
   "id": "2b607652-fe8d-4ce9-a48d-5cfb8a156b84",
   "metadata": {},
   "outputs": [
    {
     "data": {
      "text/plain": [
       "array([[0.37998954, 0.63980702, 0.26274465, ..., 0.7947513 , 0.17282635,\n",
       "        0.9798995 ],\n",
       "       [0.90467226, 0.35865872, 0.93086325, ..., 0.68528928, 0.93964226,\n",
       "        0.09023157],\n",
       "       [0.61849182, 0.08411113, 0.69053532, ..., 0.95105956, 0.66507056,\n",
       "        0.72127758],\n",
       "       ...,\n",
       "       [0.11676974, 0.89049662, 0.3712748 , ..., 0.81927027, 0.28500624,\n",
       "        0.61784644],\n",
       "       [0.84302444, 0.40759716, 0.49456791, ..., 0.71104587, 0.18751357,\n",
       "        0.48834237],\n",
       "       [0.97498015, 0.94652343, 0.29063082, ..., 0.7025696 , 0.9207584 ,\n",
       "        0.50216227]], shape=(100, 100))"
      ]
     },
     "execution_count": 34,
     "metadata": {},
     "output_type": "execute_result"
    }
   ],
   "source": [
    "h5ad_adata.X"
   ]
  },
  {
   "cell_type": "markdown",
   "id": "4baa54cb-3a72-438e-a9f9-9337a9c9798c",
   "metadata": {},
   "source": [
    "### Write zarr"
   ]
  },
  {
   "cell_type": "code",
   "execution_count": 35,
   "id": "55abd05c-1d4f-4dc6-a8b4-a3f2f9772ab6",
   "metadata": {},
   "outputs": [],
   "source": [
    "adata.write_zarr('a2.zarr')"
   ]
  },
  {
   "cell_type": "code",
   "execution_count": 36,
   "id": "0c0697e4-6a3a-41af-afcb-a52d269cc7bc",
   "metadata": {},
   "outputs": [
    {
     "data": {
      "text/html": [
       "<table>\n",
       "    <tr>\n",
       "        <td>\n",
       "            <table style=\"border-collapse: collapse;\">\n",
       "                <thead>\n",
       "                    <tr>\n",
       "                        <td> </td>\n",
       "                        <th> Array </th>\n",
       "                        <th> Chunk </th>\n",
       "                    </tr>\n",
       "                </thead>\n",
       "                <tbody>\n",
       "                    \n",
       "                    <tr>\n",
       "                        <th> Bytes </th>\n",
       "                        <td> 78.12 kiB </td>\n",
       "                        <td> 78.12 kiB </td>\n",
       "                    </tr>\n",
       "                    \n",
       "                    <tr>\n",
       "                        <th> Shape </th>\n",
       "                        <td> (100, 100) </td>\n",
       "                        <td> (100, 100) </td>\n",
       "                    </tr>\n",
       "                    <tr>\n",
       "                        <th> Dask graph </th>\n",
       "                        <td colspan=\"2\"> 1 chunks in 1 graph layer </td>\n",
       "                    </tr>\n",
       "                    <tr>\n",
       "                        <th> Data type </th>\n",
       "                        <td colspan=\"2\"> float64 numpy.ndarray </td>\n",
       "                    </tr>\n",
       "                </tbody>\n",
       "            </table>\n",
       "        </td>\n",
       "        <td>\n",
       "        <svg width=\"170\" height=\"170\" style=\"stroke:rgb(0,0,0);stroke-width:1\" >\n",
       "\n",
       "  <!-- Horizontal lines -->\n",
       "  <line x1=\"0\" y1=\"0\" x2=\"120\" y2=\"0\" style=\"stroke-width:2\" />\n",
       "  <line x1=\"0\" y1=\"120\" x2=\"120\" y2=\"120\" style=\"stroke-width:2\" />\n",
       "\n",
       "  <!-- Vertical lines -->\n",
       "  <line x1=\"0\" y1=\"0\" x2=\"0\" y2=\"120\" style=\"stroke-width:2\" />\n",
       "  <line x1=\"120\" y1=\"0\" x2=\"120\" y2=\"120\" style=\"stroke-width:2\" />\n",
       "\n",
       "  <!-- Colored Rectangle -->\n",
       "  <polygon points=\"0.0,0.0 120.0,0.0 120.0,120.0 0.0,120.0\" style=\"fill:#ECB172A0;stroke-width:0\"/>\n",
       "\n",
       "  <!-- Text -->\n",
       "  <text x=\"60.000000\" y=\"140.000000\" font-size=\"1.0rem\" font-weight=\"100\" text-anchor=\"middle\" >100</text>\n",
       "  <text x=\"140.000000\" y=\"60.000000\" font-size=\"1.0rem\" font-weight=\"100\" text-anchor=\"middle\" transform=\"rotate(-90,140.000000,60.000000)\">100</text>\n",
       "</svg>\n",
       "        </td>\n",
       "    </tr>\n",
       "</table>"
      ],
      "text/plain": [
       "dask.array<random_sample, shape=(100, 100), dtype=float64, chunksize=(100, 100), chunktype=numpy.ndarray>"
      ]
     },
     "execution_count": 36,
     "metadata": {},
     "output_type": "execute_result"
    }
   ],
   "source": [
    "adata.X"
   ]
  },
  {
   "cell_type": "markdown",
   "id": "4cec2f1b-73c7-4fe8-b659-6126423a1450",
   "metadata": {},
   "source": [
    "### Read zarr"
   ]
  },
  {
   "cell_type": "code",
   "execution_count": 37,
   "id": "1aabb21c-b186-42b4-96b0-82dc0d114a0a",
   "metadata": {},
   "outputs": [],
   "source": [
    "zarr_adata = ad.read_zarr('a2.zarr')"
   ]
  },
  {
   "cell_type": "code",
   "execution_count": 38,
   "id": "5e7c26d3-8c4a-4c70-aeab-e62c2ca092a3",
   "metadata": {},
   "outputs": [
    {
     "data": {
      "text/plain": [
       "array([[0.37998954, 0.63980702, 0.26274465, ..., 0.7947513 , 0.17282635,\n",
       "        0.9798995 ],\n",
       "       [0.90467226, 0.35865872, 0.93086325, ..., 0.68528928, 0.93964226,\n",
       "        0.09023157],\n",
       "       [0.61849182, 0.08411113, 0.69053532, ..., 0.95105956, 0.66507056,\n",
       "        0.72127758],\n",
       "       ...,\n",
       "       [0.11676974, 0.89049662, 0.3712748 , ..., 0.81927027, 0.28500624,\n",
       "        0.61784644],\n",
       "       [0.84302444, 0.40759716, 0.49456791, ..., 0.71104587, 0.18751357,\n",
       "        0.48834237],\n",
       "       [0.97498015, 0.94652343, 0.29063082, ..., 0.7025696 , 0.9207584 ,\n",
       "        0.50216227]], shape=(100, 100))"
      ]
     },
     "execution_count": 38,
     "metadata": {},
     "output_type": "execute_result"
    }
   ],
   "source": [
    "zarr_adata.X"
   ]
  },
  {
   "cell_type": "markdown",
   "id": "b729179a-6969-4a1a-aa76-a1dd189986ba",
   "metadata": {},
   "source": [
    "Notice how they are loaded as arrays rather than dask arrays."
   ]
  },
  {
   "cell_type": "markdown",
   "id": "50ebca9b-3468-4031-9c37-172fe5d06db9",
   "metadata": {},
   "source": [
    "## Dask Array Support for Other Fields\n",
    "\n",
    "This is the list of operations and in which fields they are supported, although some might have not been covered in this tutorial.\n",
    "\n",
    "The following work with operations anndata supported before are also supported now with Dask arrays:\n",
    "- anndata.concat()\n",
    "- Views\n",
    "- copy()\n",
    "- to_memory() (changed behaviour)\n",
    "- read/write on h5ad/zarr\n",
    "\n",
    "**X, obsm, varm, obsp, varp, layers, uns, and raw** attributes are all supported and tested.\n",
    "\n",
    "Note: scipy.sparse array wrapped with dask array doesn't play well. This is mainly because of the inconsistent numpy api support of scipy.sparse. Even though not explicitly tested, a sparse array that supports the numpy api should theoretically work well."
   ]
  }
 ],
 "metadata": {
  "kernelspec": {
   "display_name": "Python 3",
   "language": "python",
   "name": "python3"
  },
  "language_info": {
   "codemirror_mode": {
    "name": "ipython",
    "version": 3
   },
   "file_extension": ".py",
   "mimetype": "text/x-python",
   "name": "python",
   "nbconvert_exporter": "python",
   "pygments_lexer": "ipython3",
   "version": "3.11.8"
  }
 },
 "nbformat": 4,
 "nbformat_minor": 5
}
